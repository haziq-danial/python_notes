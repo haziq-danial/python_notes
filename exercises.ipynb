{
 "cells": [
  {
   "cell_type": "markdown",
   "metadata": {},
   "source": [
    "# Exercises"
   ]
  },
  {
   "cell_type": "markdown",
   "metadata": {},
   "source": [
    "Find the profit of a stock, based on the array of prices it fluctuates in one week\n",
    " - Prices of a stock in a week: array\n",
    " - find the profit\n",
    " - only buy the stock on that day\n",
    "\n",
    "Example:\n",
    "```\n",
    "array_of_stock_prices_week = [10, 12, 15, 4, 5, 9]\n",
    "\n",
    "Output: 5\n",
    "```"
   ]
  },
  {
   "cell_type": "code",
   "execution_count": 44,
   "metadata": {},
   "outputs": [],
   "source": [
    "array_of_stock_prices_week = [10, 12, 15, 4, 5, 9]"
   ]
  },
  {
   "cell_type": "code",
   "execution_count": 48,
   "metadata": {},
   "outputs": [
    {
     "name": "stdout",
     "output_type": "stream",
     "text": [
      "curr price: 12\n",
      "prev price: 10\n",
      "low index: 10\n",
      "high index: 12\n",
      "curr price: 15\n",
      "prev price: 12\n",
      "low index: 10\n",
      "high index: 15\n",
      "curr price: 4\n",
      "prev price: 15\n",
      "low index: 4\n",
      "high index: 0\n",
      "curr price: 5\n",
      "prev price: 4\n",
      "low index: 4\n",
      "high index: 5\n",
      "curr price: 9\n",
      "prev price: 5\n",
      "low index: 4\n",
      "high index: 9\n",
      "5\n"
     ]
    }
   ],
   "source": [
    "def calculateProfit(arr):\n",
    "\n",
    "    high_index = 0\n",
    "    low_index = 0\n",
    "    profit = 0\n",
    "    len_arr = len(arr)\n",
    "    prev_price = 0\n",
    "\n",
    "    for x in range(len_arr):\n",
    "        if x == 0:\n",
    "            low_index = arr[x]\n",
    "            continue\n",
    "        \n",
    "        # get cheap price\n",
    "        if arr[x] < arr[prev_price] or arr[prev_price] < arr[x]:\n",
    "            if low_index > arr[x]:\n",
    "                low_index = arr[x]\n",
    "                high_index = 0\n",
    "\n",
    "        # get high price\n",
    "        if arr[x] > arr[prev_price]:\n",
    "            if arr[x] > high_index:\n",
    "                high_index = arr[x]\n",
    "        \n",
    "        print(f\"curr price: {arr[x]}\")\n",
    "        print(f\"prev price: {arr[prev_price]}\")\n",
    "        print(f\"low index: {low_index}\")\n",
    "        print(f\"high index: {high_index}\")\n",
    "        # print(low_index)\n",
    "        prev_price = prev_price + 1\n",
    "\n",
    "    profit = high_index - low_index\n",
    "    return profit\n",
    "\n",
    "print(calculateProfit(array_of_stock_prices_week))"
   ]
  }
 ],
 "metadata": {
  "kernelspec": {
   "display_name": ".venv",
   "language": "python",
   "name": "python3"
  },
  "language_info": {
   "codemirror_mode": {
    "name": "ipython",
    "version": 3
   },
   "file_extension": ".py",
   "mimetype": "text/x-python",
   "name": "python",
   "nbconvert_exporter": "python",
   "pygments_lexer": "ipython3",
   "version": "3.11.9"
  }
 },
 "nbformat": 4,
 "nbformat_minor": 2
}
